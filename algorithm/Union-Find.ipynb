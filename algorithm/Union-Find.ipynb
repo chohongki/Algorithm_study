{
 "cells": [
  {
   "cell_type": "markdown",
   "metadata": {},
   "source": [
    "# Union-Find 알고리즘"
   ]
  },
  {
   "cell_type": "markdown",
   "metadata": {},
   "source": [
    "## 목적\n",
    "- 노드를 합치는 Union 연산, 루트 노드를 찾는 Find 연산을 통해 노드를 연결"
   ]
  },
  {
   "cell_type": "markdown",
   "metadata": {},
   "source": [
    "![이미지](https://ip99202.github.io/assets/img/postImg/unionfind/unionfind09.PNG)"
   ]
  },
  {
   "cell_type": "markdown",
   "metadata": {},
   "source": [
    "위 이미지를 예시로 들면, 노드 1의 자식노드 2의 value에 1을 넣고, 노드 4의 자식노드 5,6의 value에 4를 집어넣어 노드들을 연결할 수 있다."
   ]
  },
  {
   "cell_type": "markdown",
   "metadata": {},
   "source": [
    "[백준 1717번](https://www.acmicpc.net/problem/1717) 문제를 예시로 들어보자."
   ]
  },
  {
   "cell_type": "markdown",
   "metadata": {},
   "source": [
    "```python\n",
    "import sys\n",
    "sys.setrecursionlimit(10**6)\n",
    "input = sys.stdin.readline\n",
    "\n",
    "n, m = map(int, input().split())\n",
    "\n",
    "lst = [i for i in range(n+2)]\n",
    "\n",
    "def find(x):\n",
    "    if lst[x] == x:\n",
    "        return x\n",
    "    else:\n",
    "        lst[x] = find(lst[x])\n",
    "        return lst[x]\n",
    "\n",
    "def union(x, y):\n",
    "    x = find(x)\n",
    "    y = find(y)\n",
    "    \n",
    "    if x == y:\n",
    "        return\n",
    "    elif x < y:\n",
    "        lst[y] = x\n",
    "    else:\n",
    "        lst[x] = y\n",
    "\n",
    "for _ in range(m):\n",
    "    t, a, b = map(int, input().split())\n",
    "    if t:\n",
    "        if find(a) == find(b):\n",
    "            print(\"YES\")\n",
    "        else:\n",
    "            print(\"NO\")\n",
    "    else:\n",
    "        union(a, b)\n",
    "```"
   ]
  },
  {
   "cell_type": "markdown",
   "metadata": {},
   "source": [
    "문제에서는 `0 : 집합을 합침, 1: 포함관계 확인` 을 통해서 Union, Find 를 직접적으로 하게끔 유도하고 있으며\n",
    "이후 주어지는 두 숫자에는 부모-자식노드의 구분이 없기 때문에 대소관계를 통하여 부모-자식노드의 구분을 주었다.\n",
    "\n",
    "Find() 함수 내에서 재귀 과정이 있기 때문에 `sys.setrecursionlimit()`을 주어 프로그램이 돌아가는 동안 강제종료 당하지 않도록 재귀 한도를 올려주었다."
   ]
  },
  {
   "cell_type": "markdown",
   "metadata": {},
   "source": []
  }
 ],
 "metadata": {
  "language_info": {
   "name": "python"
  },
  "orig_nbformat": 4
 },
 "nbformat": 4,
 "nbformat_minor": 2
}
